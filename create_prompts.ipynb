{
 "cells": [
  {
   "cell_type": "markdown",
   "id": "60d0665f",
   "metadata": {},
   "source": [
    "# Contents\n",
    "\n",
    "1. [Loading the FEVER dataset](#Loading-the-FEVER-dataset)\n",
    "1. [Using an internal company LLM API (Falcon-40B) to get assumptions](#Falcon-40B-Offering-to-get-assumptions)\n",
    "1. [Using ReAct to get reasoning chains](#Using-ReAct-to-get-reasoning-chains)\n",
    "1. [Using Open AI API for reasoning chains](#Using-Open-AI-API)\n",
    "    1. [Prompt version 1](#Prompt-version-1)\n",
    "    1. [Prompt version 2](#Prompt-version-2)"
   ]
  },
  {
   "cell_type": "code",
   "execution_count": 97,
   "id": "0cb7bf0a",
   "metadata": {},
   "outputs": [],
   "source": [
    "import json\n",
    "with open('secrets.json') as f:\n",
    "    secrets = json.load(f)"
   ]
  },
  {
   "cell_type": "code",
   "execution_count": 88,
   "id": "07f1bbae",
   "metadata": {},
   "outputs": [],
   "source": [
    "import pickle\n",
    "import pandas as pd\n",
    "from tqdm import tqdm"
   ]
  },
  {
   "cell_type": "markdown",
   "id": "c9105523",
   "metadata": {},
   "source": [
    "## Loading the FEVER dataset"
   ]
  },
  {
   "cell_type": "code",
   "execution_count": 83,
   "id": "537d1805",
   "metadata": {},
   "outputs": [
    {
     "name": "stderr",
     "output_type": "stream",
     "text": [
      "/Users/deanorenstein/opt/anaconda3/envs/nlu/lib/python3.10/site-packages/tqdm/auto.py:21: TqdmWarning: IProgress not found. Please update jupyter and ipywidgets. See https://ipywidgets.readthedocs.io/en/stable/user_install.html\n",
      "  from .autonotebook import tqdm as notebook_tqdm\n"
     ]
    }
   ],
   "source": [
    "from datasets import load_dataset"
   ]
  },
  {
   "cell_type": "code",
   "execution_count": 84,
   "id": "2666f809",
   "metadata": {},
   "outputs": [],
   "source": [
    "d_train = load_dataset(\"fever\", \"v1.0\") # training set\n",
    "d_val = load_dataset(\"fever\", \"v2.0\") # validation set"
   ]
  },
  {
   "cell_type": "code",
   "execution_count": null,
   "id": "2daed2c0",
   "metadata": {},
   "outputs": [],
   "source": [
    "example_claim = d_train['train'][0]"
   ]
  },
  {
   "cell_type": "code",
   "execution_count": 57,
   "id": "5d7af11c-7b45-486b-95eb-d22540431c44",
   "metadata": {},
   "outputs": [
    {
     "data": {
      "text/plain": [
       "{'id': 75397,\n",
       " 'label': 'SUPPORTS',\n",
       " 'claim': 'Nikolaj Coster-Waldau worked with the Fox Broadcasting Company.',\n",
       " 'evidence_annotation_id': 92206,\n",
       " 'evidence_id': 104971,\n",
       " 'evidence_wiki_url': 'Nikolaj_Coster-Waldau',\n",
       " 'evidence_sentence_id': 7}"
      ]
     },
     "execution_count": 57,
     "metadata": {},
     "output_type": "execute_result"
    }
   ],
   "source": [
    "example_claim"
   ]
  },
  {
   "cell_type": "code",
   "execution_count": null,
   "id": "00d22940",
   "metadata": {},
   "outputs": [],
   "source": [
    "ex_with_evidence = d_train['train'][1059]"
   ]
  },
  {
   "cell_type": "code",
   "execution_count": null,
   "id": "1262ed0f",
   "metadata": {},
   "outputs": [],
   "source": [
    "d_wiki = load_dataset(\"fever\", \"wiki_pages\") # wikipedia evidence\n",
    "d_wikipages = d_wiki['wikipedia_pages']"
   ]
  },
  {
   "cell_type": "code",
   "execution_count": 59,
   "id": "3de0eebe-d8c8-4003-bbf6-6ad0e93c4ec9",
   "metadata": {},
   "outputs": [
    {
     "data": {
      "text/plain": [
       "{'id': '1974_in_Cambodia',\n",
       " 'text': 'The following lists events that happened during 1974 in Cambodia . ',\n",
       " 'lines': '0\\tThe following lists events that happened during 1974 in Cambodia .\\t1974\\t1974\\tCambodia\\tCambodia\\n1\\t'}"
      ]
     },
     "execution_count": 59,
     "metadata": {},
     "output_type": "execute_result"
    }
   ],
   "source": [
    "d_wikipages[104971]"
   ]
  },
  {
   "cell_type": "code",
   "execution_count": null,
   "id": "4fb9dd3d",
   "metadata": {},
   "outputs": [],
   "source": [
    "wiki_text = {val: text for val, text in zip(d_wikipages['id'], d_wikipages['text'])}"
   ]
  },
  {
   "cell_type": "code",
   "execution_count": null,
   "id": "c8f311d9",
   "metadata": {},
   "outputs": [],
   "source": [
    "with open('data/fever/wiki_text.pkl', 'wb') as f:\n",
    "    pickle.dump(wiki_text, f)"
   ]
  },
  {
   "cell_type": "code",
   "execution_count": 89,
   "id": "fc33a8ef",
   "metadata": {},
   "outputs": [],
   "source": [
    "with open('data/fever/wiki_text.pkl', 'rb') as f:\n",
    "    wiki_text = pickle.load(f)"
   ]
  },
  {
   "cell_type": "code",
   "execution_count": 90,
   "id": "11150a6a",
   "metadata": {},
   "outputs": [],
   "source": [
    "import re\n",
    "bad_pattern_1 = re.compile(r'\\s*-RCB-\\s*')\n",
    "bad_css = ['align = ', 'width = ', 'colspan = ', 'style = ', 'bgcolor = ']\n",
    "cleaned_wiki_text = {}\n",
    "#Removing any CSS properties or unneeded phrases/characters from the wikipedia evidence (so we have less chance of exceeding the context window)\n",
    "m = 0\n",
    "for v, t in wiki_text.items():\n",
    "    l = len(t)\n",
    "\n",
    "    temp = ''\n",
    "    for token in t.split('|'):\n",
    "        token = re.sub(bad_pattern_1, ' ', token)\n",
    "        if token == ' ' or token == ' -  ' or any(pat in token for pat in bad_css):\n",
    "            continue\n",
    "\n",
    "        temp += token\n",
    "    t = temp\n",
    "    cleaned_wiki_text[v] = t\n",
    "    \n",
    "    if l > m:\n",
    "        m = l\n",
    "        x = t"
   ]
  },
  {
   "cell_type": "code",
   "execution_count": null,
   "id": "da1fe3aa",
   "metadata": {},
   "outputs": [
    {
     "ename": "KeyboardInterrupt",
     "evalue": "",
     "output_type": "error",
     "traceback": [
      "\u001b[0;31m---------------------------------------------------------------------------\u001b[0m",
      "\u001b[0;31mKeyboardInterrupt\u001b[0m                         Traceback (most recent call last)",
      "\u001b[0;31mKeyboardInterrupt\u001b[0m: "
     ]
    }
   ],
   "source": [
    "wiki_text = cleaned_wiki_text"
   ]
  },
  {
   "cell_type": "markdown",
   "id": "fc64ccd3",
   "metadata": {},
   "source": [
    "## Falcon 40B Offering to get assumptions"
   ]
  },
  {
   "cell_type": "code",
   "execution_count": null,
   "id": "27e76c68",
   "metadata": {},
   "outputs": [],
   "source": [
    "import requests\n",
    "uri, api_key = secrets[\"DELL-LLM-URI\"], secrets[\"DELL-LLM-API-KEY\"]\n",
    "model_name = \"falcon-40b-instruct\"\n",
    "def llm_api(prompt):\n",
    "    url = uri + model_name\n",
    "    payload = {\n",
    "        \"instruction\": prompt\n",
    "    }\n",
    "    headers = {\n",
    "        \"accept\": \"application/json\",\n",
    "        \"api-key\": api_key,\n",
    "        \"Content-Type\": \"application/json\"\n",
    "    }\n",
    "\n",
    "    try:\n",
    "        response = requests.post(url, headers=headers, json=payload, verify=False)\n",
    "        response.raise_for_status()\n",
    "        response = response.json()\n",
    "        generated_text = response['response'][0]['generated_text']\n",
    "        return generated_text\n",
    "    except Exception as err:\n",
    "        if response is not None:\n",
    "            print(\"Error code:\", response.status_code)\n",
    "            print(\"Error message:\", response.text)\n",
    "        else:\n",
    "            print(\"Error:\", err)\n",
    "        return None"
   ]
  },
  {
   "cell_type": "code",
   "execution_count": null,
   "id": "9a76c2cc",
   "metadata": {},
   "outputs": [],
   "source": [
    "prompt = f\"\"\"\n",
    "Here is a statement:\n",
    "{ex_with_evidence['claim']}\n",
    "Make a numbered list of the assumptions you made when producing the above statement.\n",
    "\"\"\"\n",
    "res = llm_api(prompt)"
   ]
  },
  {
   "cell_type": "code",
   "execution_count": null,
   "id": "a70c8c24",
   "metadata": {},
   "outputs": [],
   "source": [
    "evidence = [wiki_text[url] for url in ex_with_evidence['evidence_wiki_url'] if url in wiki_text]"
   ]
  },
  {
   "cell_type": "code",
   "execution_count": null,
   "id": "0028e69e",
   "metadata": {},
   "outputs": [],
   "source": [
    "prompt = f\"\"\"\n",
    "Here is a numbered list of assertions:\n",
    "{res}\n",
    "Here is an evidence passage:\n",
    "{evidence}\n",
    "For each assertion, determine whether it is SUPPORTED, REFUTED, or NOT ENOUGH INFO based on the evidence given. Give back a numbered list, each with 1 of these labels, where each number corresponds to its corresponding assertion. Also, give back a final answer based on a majority vote\n",
    "\"\"\"\n",
    "res2 = llm_api(prompt)"
   ]
  },
  {
   "cell_type": "code",
   "execution_count": 110,
   "id": "19c6165e-fabc-4ab3-aed2-a8c529828ad9",
   "metadata": {},
   "outputs": [
    {
     "name": "stdout",
     "output_type": "stream",
     "text": [
      "1. The movie is called Sully\n",
      "2. Sully is a real person\n",
      "3. Tom Hanks is an actor\n",
      "4. Tom Hanks has played real people before\n",
      "5. Tom Hanks played Sully in a movie called Sully.\n"
     ]
    }
   ],
   "source": [
    "print(res2)"
   ]
  },
  {
   "cell_type": "markdown",
   "id": "2c2cbb74",
   "metadata": {},
   "source": [
    "## Using ReAct to get reasoning chains"
   ]
  },
  {
   "cell_type": "markdown",
   "id": "29a70429",
   "metadata": {},
   "source": [
    "Seeing what the data looks like from ReAct paper"
   ]
  },
  {
   "cell_type": "code",
   "execution_count": 1,
   "id": "6fc4b2a6",
   "metadata": {},
   "outputs": [],
   "source": [
    "import json\n",
    "with open('data/react/fever.json', 'r') as f:\n",
    "    x = json.load(f)"
   ]
  },
  {
   "cell_type": "code",
   "execution_count": 3,
   "id": "42f7d867",
   "metadata": {},
   "outputs": [
    {
     "data": {
      "text/plain": [
       "dict_keys(['webact_simple3', 'cotqa_simple3', 'webqa_simple3', 'webthink_simple3'])"
      ]
     },
     "execution_count": 3,
     "metadata": {},
     "output_type": "execute_result"
    }
   ],
   "source": [
    "x.keys()"
   ]
  },
  {
   "cell_type": "code",
   "execution_count": null,
   "id": "c2cd26af",
   "metadata": {},
   "outputs": [],
   "source": [
    "print(x['webact_simple3'])"
   ]
  },
  {
   "cell_type": "code",
   "execution_count": null,
   "id": "b6e7ccfb",
   "metadata": {},
   "outputs": [],
   "source": [
    "print(x['cotqa_simple3'])"
   ]
  },
  {
   "cell_type": "code",
   "execution_count": null,
   "id": "2c12cdcf",
   "metadata": {},
   "outputs": [],
   "source": [
    "print(x['webqa_simple3'])"
   ]
  },
  {
   "cell_type": "code",
   "execution_count": null,
   "id": "56d9645c",
   "metadata": {},
   "outputs": [],
   "source": [
    "print(x['webthink_simple3'])"
   ]
  },
  {
   "cell_type": "markdown",
   "id": "6db65ffc",
   "metadata": {},
   "source": [
    "Follow the same ReAct code from the original source (just using GPT-3.5 turbo instead now)"
   ]
  },
  {
   "cell_type": "code",
   "execution_count": 1,
   "id": "1ca28cd1",
   "metadata": {},
   "outputs": [],
   "source": [
    "import os\n",
    "import openai\n",
    "openai.api_key = os.getenv(\"OPEN_AI_KEY\")\n",
    "\n",
    "import wikienv, wrappers\n",
    "import json\n",
    "import sys\n",
    "import random\n",
    "import time"
   ]
  },
  {
   "cell_type": "code",
   "execution_count": null,
   "id": "fdd4419e",
   "metadata": {},
   "outputs": [],
   "source": [
    "def llm(prompt, stop=[\"\\n\"]):\n",
    "    res = openai.ChatCompletion.create(\n",
    "        model=\"gpt-3.5-turbo\",\n",
    "        messages=[{\"role\": \"user\", \"content\": prompt}],\n",
    "        stop=stop\n",
    "    )\n",
    "\n",
    "    res = res['choices'][0]['message']['content']\n",
    "    return res"
   ]
  },
  {
   "cell_type": "code",
   "execution_count": null,
   "id": "065d89c4",
   "metadata": {},
   "outputs": [],
   "source": [
    "!pip install gym beautifulsoup4"
   ]
  },
  {
   "cell_type": "code",
   "execution_count": 2,
   "id": "d33e82f2",
   "metadata": {},
   "outputs": [],
   "source": [
    "env = wikienv.WikiEnv()\n",
    "env = wrappers.FeverWrapper(env, split=\"train\")\n",
    "env = wrappers.LoggingWrapper(env)\n",
    "\n",
    "def step(env, action):\n",
    "    attempts = 0\n",
    "    while attempts < 10:\n",
    "        try:\n",
    "            return env.step(action)\n",
    "        except:\n",
    "            attempts += 1"
   ]
  },
  {
   "cell_type": "code",
   "execution_count": 3,
   "id": "fd25b98b",
   "metadata": {},
   "outputs": [],
   "source": [
    "folder = 'prompts/'\n",
    "prompt_file = 'fever.json'\n",
    "with open('data/react/' + folder + prompt_file, 'r') as f:\n",
    "    prompt_dict = json.load(f)\n",
    "\n",
    "webthink_prompt = prompt_dict['webthink_simple3']"
   ]
  },
  {
   "cell_type": "code",
   "execution_count": null,
   "id": "c1be4016",
   "metadata": {},
   "outputs": [],
   "source": [
    "def webthink(idx=None, prompt=webthink_prompt, to_print=False):\n",
    "    question = env.reset(idx=idx)\n",
    "\n",
    "    if to_print:\n",
    "        print(idx, question)\n",
    "    \n",
    "    prompt += question + \"\\n\"\n",
    "\n",
    "    n_calls, n_badcalls = 0, 0\n",
    "    for i in range(1, 8):\n",
    "        n_calls += 1\n",
    "        thought_action = llm(prompt + f\"Thought {i}:\", stop=[f\"\\nObservation {i}:\"])\n",
    "        try:\n",
    "            thought, action = thought_action.strip().split(f\"\\nAction {i}: \")\n",
    "        except:\n",
    "            print('ohh...', thought_action)\n",
    "            n_badcalls += 1\n",
    "            n_calls += 1\n",
    "            thought = thought_action.strip().split('\\n')[0]\n",
    "            action = llm(prompt + f\"Thought {i}: {thought}\\nAction {i}:\", stop=[f\"\\n\"]).strip()\n",
    "        obs, r, done, info = step(env, action[0].lower() + action[1:])\n",
    "        obs = obs.replace('\\\\n', '')\n",
    "        step_str = f\"Thought {i}: {thought}\\nAction {i}: {action}\\nObservation {i}: {obs}\\n\"\n",
    "        prompt += step_str\n",
    "        if to_print:\n",
    "            print(step_str)\n",
    "        if done:\n",
    "            break\n",
    "    if not done:\n",
    "        obs, r, done, info = step(env, \"finish[]\")\n",
    "    if to_print:\n",
    "        print(info, '\\n')\n",
    "    info.update({'n_calls': n_calls, 'n_badcalls': n_badcalls, 'traj': prompt})\n",
    "    return r, info"
   ]
  },
  {
   "cell_type": "code",
   "execution_count": 6,
   "id": "1a5e00c3",
   "metadata": {},
   "outputs": [],
   "source": [
    "idxs = list(range(3000))\n",
    "random.Random(233).shuffle(idxs)\n",
    "rs = []\n",
    "infos = []\n",
    "old_time = time.time()"
   ]
  },
  {
   "cell_type": "code",
   "execution_count": 4,
   "id": "52da765f",
   "metadata": {},
   "outputs": [],
   "source": [
    "\n",
    "with open('data/react_output_first_1077_seed_233.pkl', 'rb') as f:\n",
    "    so_far = pickle.load(f)"
   ]
  },
  {
   "cell_type": "code",
   "execution_count": 5,
   "id": "a7e62abd",
   "metadata": {},
   "outputs": [],
   "source": [
    "seen = set([x['question_idx'] for x in so_far])"
   ]
  },
  {
   "cell_type": "code",
   "execution_count": 15,
   "id": "8b4843fd",
   "metadata": {},
   "outputs": [],
   "source": [
    "seen = set([x['question_idx'] for x in so_far] + [x['question_idx'] for x in infos])"
   ]
  },
  {
   "cell_type": "code",
   "execution_count": null,
   "id": "9c6ebd17",
   "metadata": {},
   "outputs": [],
   "source": [
    "#prog = tqdm(initial=n, total=len(idxs))\n",
    "prev = len(infos)\n",
    "n = 0\n",
    "for i in tqdm(idxs):\n",
    "    if i in seen:\n",
    "        continue\n",
    "    \n",
    "    try:\n",
    "        r, info = webthink(i)\n",
    "    except:\n",
    "        continue\n",
    "    rs.append(info['em'])\n",
    "    infos.append(info)\n",
    "\n",
    "    if info['answer'] != info['gt_answer']:\n",
    "        print(\"answers unequal at\", i)\n",
    "    \n",
    "    if n % 5 == 0:\n",
    "        time.sleep(25)\n",
    "\n",
    "    #prog.update(1)\n",
    "    assert len(infos) == prev + 1\n",
    "    prev = len(infos)\n",
    "    n += 1"
   ]
  },
  {
   "cell_type": "code",
   "execution_count": 17,
   "id": "01c06320",
   "metadata": {},
   "outputs": [
    {
     "data": {
      "text/plain": [
       "487"
      ]
     },
     "execution_count": 17,
     "metadata": {},
     "output_type": "execute_result"
    }
   ],
   "source": [
    "len(infos)"
   ]
  },
  {
   "cell_type": "code",
   "execution_count": 20,
   "id": "27424fb2",
   "metadata": {},
   "outputs": [],
   "source": [
    "infos += so_far"
   ]
  },
  {
   "cell_type": "code",
   "execution_count": 19,
   "id": "38c5982c",
   "metadata": {},
   "outputs": [],
   "source": [
    "with open('data/react_output_first_1564_seed_233.pkl', 'wb') as f:\n",
    "    pickle.dump(so_far + infos, f)"
   ]
  },
  {
   "cell_type": "code",
   "execution_count": 115,
   "id": "6eb94f51",
   "metadata": {},
   "outputs": [],
   "source": [
    "with open('data/react_output_first_1077_seed_233.pkl', 'rb') as f:\n",
    "    x = pickle.load(f)"
   ]
  },
  {
   "cell_type": "code",
   "execution_count": 21,
   "id": "37666810",
   "metadata": {},
   "outputs": [
    {
     "data": {
      "text/plain": [
       "1564"
      ]
     },
     "execution_count": 21,
     "metadata": {},
     "output_type": "execute_result"
    }
   ],
   "source": [
    "len(infos)"
   ]
  },
  {
   "cell_type": "code",
   "execution_count": 54,
   "id": "5291f13b",
   "metadata": {},
   "outputs": [],
   "source": [
    "labels = []\n",
    "claims = []\n",
    "assertions = []\n",
    "evidences = []\n",
    "question_idxs = []\n",
    "for i in infos:\n",
    "    qi = i['question_idx']\n",
    "    a, ga = i['answer'], i['gt_answer']\n",
    "    traj = i['traj']\n",
    "    assertion_num = 1\n",
    "\n",
    "    # Only process react output if it aligns with ground truth\n",
    "    if a == ga:\n",
    "        evidence = \"\"\n",
    "        claim = \"\"\n",
    "        assertion_str = \"\"\n",
    "        start = traj.rfind(\"Claim:\")\n",
    "        end = traj.rfind(\"Finish[\")\n",
    "        steps = traj[start:end].split('\\n')\n",
    "        for s in steps:\n",
    "            if s.startswith(\"Observation\"):\n",
    "                evidence += s[15:]\n",
    "            elif s.startswith(\"Action\"):\n",
    "                continue\n",
    "            elif s.startswith(\"Claim\"):\n",
    "                claim = s[7:]\n",
    "            elif s.startswith(\"Thought\"):\n",
    "                thought = s[11:]\n",
    "                if thought.startswith(\"I\"):\n",
    "                    continue\n",
    "                assertion_str += f\"{assertion_num}. {thought} \\n\"\n",
    "                assertion_num += 1\n",
    "\n",
    "        labels.append(a)\n",
    "        claims.append(claim)\n",
    "        assertions.append(assertion_str)\n",
    "        question_idxs.append(qi)\n",
    "        evidences.append(evidence)"
   ]
  },
  {
   "cell_type": "code",
   "execution_count": 58,
   "id": "1bf65d1b",
   "metadata": {},
   "outputs": [],
   "source": [
    "import pandas as pd\n",
    "df_react_reasoning_chains = pd.DataFrame({\n",
    "    'question_idx': question_idxs,\n",
    "    'claim': claims,\n",
    "    'label': labels,\n",
    "    'evidence': evidences,\n",
    "    'assertions': assertions\n",
    "})"
   ]
  },
  {
   "cell_type": "code",
   "execution_count": 62,
   "id": "f882591d",
   "metadata": {},
   "outputs": [],
   "source": [
    "df_react_reasoning_chains.to_csv('data/df_react_chains_826.csv')"
   ]
  },
  {
   "cell_type": "markdown",
   "id": "3187694d",
   "metadata": {},
   "source": [
    "## Using Open AI API"
   ]
  },
  {
   "cell_type": "code",
   "execution_count": 99,
   "id": "7f83e27d",
   "metadata": {},
   "outputs": [],
   "source": [
    "import os\n",
    "import openai\n",
    "openai.api_key = secrets[\"OPEN-AI-KEY\"]"
   ]
  },
  {
   "cell_type": "code",
   "execution_count": 100,
   "id": "69266023",
   "metadata": {},
   "outputs": [],
   "source": [
    "def llm(prompt):\n",
    "    res = openai.ChatCompletion.create(\n",
    "        model=\"gpt-3.5-turbo\",\n",
    "        messages=[{\"role\": \"user\", \"content\": prompt}]\n",
    "    )\n",
    "\n",
    "    res = res['choices'][0]['message']['content']\n",
    "    return res"
   ]
  },
  {
   "cell_type": "markdown",
   "id": "c6f6f31c",
   "metadata": {},
   "source": [
    "### Prompt version 1"
   ]
  },
  {
   "cell_type": "code",
   "execution_count": 17,
   "id": "befc560c",
   "metadata": {},
   "outputs": [],
   "source": [
    "prompt = f\"\"\"\n",
    "Here is a claim:\n",
    "{ex_with_evidence['claim']}\n",
    "Make a numbered list of the assumptions made when producing the above claim.\n",
    "\"\"\""
   ]
  },
  {
   "cell_type": "code",
   "execution_count": 20,
   "id": "c4fa0b4e",
   "metadata": {},
   "outputs": [],
   "source": [
    "res = llm(prompt)"
   ]
  },
  {
   "cell_type": "code",
   "execution_count": 25,
   "id": "71237db1",
   "metadata": {},
   "outputs": [
    {
     "name": "stdout",
     "output_type": "stream",
     "text": [
      "1. The claim assumes that \"Sully\" is a title of a movie.\n",
      "2. It assumes that Tom Hanks is an actor who has appeared in movies.\n",
      "3. It assumes that Tom Hanks has appeared in the movie titled \"Sully.\"\n",
      "4. It assumes that there is no other movie titled \"Sully\" that does not feature Tom Hanks.\n",
      "5. It assumes that the claim refers to a specific movie and not a book, TV show, or any other form of media.\n"
     ]
    }
   ],
   "source": [
    "print(res['choices'][0]['message']['content'])"
   ]
  },
  {
   "cell_type": "code",
   "execution_count": 31,
   "id": "f8b3dd98",
   "metadata": {},
   "outputs": [],
   "source": [
    "evidence = [wiki_text[url] for url in ex_with_evidence['evidence_wiki_url'] if url in wiki_text]"
   ]
  },
  {
   "cell_type": "code",
   "execution_count": 37,
   "id": "1cb5a781",
   "metadata": {},
   "outputs": [],
   "source": [
    "prompt = f\"\"\"\n",
    "Here is a numbered list of assertions:\n",
    "{res}\n",
    "Here is an evidence passage:\n",
    "{evidence}\n",
    "For each assertion, determine whether it is SUPPORTED, REFUTED, or NOT ENOUGH INFO based on the evidence given. Give back a numbered list, each with 1 of these labels, where each number corresponds to its corresponding assertion. Also, give back a final answer based on a majority vote\n",
    "\"\"\""
   ]
  },
  {
   "cell_type": "code",
   "execution_count": 38,
   "id": "cc956f7b",
   "metadata": {},
   "outputs": [],
   "source": [
    "res2 = llm(prompt)"
   ]
  },
  {
   "cell_type": "code",
   "execution_count": 40,
   "id": "6dfb117f",
   "metadata": {},
   "outputs": [
    {
     "name": "stdout",
     "output_type": "stream",
     "text": [
      "The assertions given are:\n",
      "\n",
      "1. The claim assumes that \"Sully\" is a title of a movie.\n",
      "2. It assumes that Tom Hanks is an actor who has appeared in movies.\n",
      "3. It assumes that Tom Hanks has appeared in the movie titled \"Sully.\"\n",
      "4. It assumes that there is no other movie titled \"Sully\" that does not feature Tom Hanks.\n",
      "5. It assumes that the claim refers to a specific movie and not a book, TV show, or any other form of media.\n",
      "\n",
      "Based on the evidence passage provided, we can determine the following:\n",
      "\n",
      "1. SUPPORTED - The evidence passage mentions that \"Sully\" is a 2016 American biographical drama film.\n",
      "2. SUPPORTED - The evidence passage mentions that Tom Hanks stars in the film.\n",
      "3. SUPPORTED - The evidence passage mentions that Tom Hanks plays the role of Sullenberger in the film.\n",
      "4. SUPPORTED - There is no evidence provided that suggests the existence of another movie titled \"Sully\" that does not feature Tom Hanks.\n",
      "5. SUPPORTED - The evidence passage specifically refers to the movie \"Sully\" and does not mention any other form of media.\n",
      "\n",
      "Based on the majority vote, the overall answer is SUPPORTED.\n"
     ]
    }
   ],
   "source": [
    "print(res2['choices'][0]['message']['content'])"
   ]
  },
  {
   "cell_type": "markdown",
   "id": "29a2c7f4",
   "metadata": {},
   "source": [
    "### Prompt version 2\n",
    "\n",
    "This version involves providing the ground truth label and asking the model to generate reasoning, based on the evidence, for why the ground truth label is what it is"
   ]
  },
  {
   "cell_type": "code",
   "execution_count": 66,
   "id": "2e9ce0eb",
   "metadata": {},
   "outputs": [],
   "source": [
    "def get_prompt_ex(claim, evidence, label):\n",
    "    prompt = f\"\"\"\n",
    "    Given the following claim, evidence, and label indicating whether the\n",
    "    the claim is supported, refuted, or not having enough information.\n",
    "    Derive a bullet list of up to 8 assertions verifying the label for the claim based\n",
    "    on the given evidence. Please provide up to three lists of assertions.\n",
    "\n",
    "    Claim - {claim}\n",
    "\n",
    "    Evidence - {evidence}\n",
    "\n",
    "    Label - {label}\n",
    "    \"\"\"\n",
    "\n",
    "    return prompt"
   ]
  },
  {
   "cell_type": "code",
   "execution_count": 67,
   "id": "5c79405c",
   "metadata": {},
   "outputs": [],
   "source": [
    "# Make sure we are targeting the same sample of data used by ReAct\n",
    "import random\n",
    "idxs = list(range(3000))\n",
    "random.Random(233).shuffle(idxs)\n",
    "react_generated_examples = pd.read_csv('data/react/df_react_chains_826.csv')"
   ]
  },
  {
   "cell_type": "code",
   "execution_count": 69,
   "id": "962e714b",
   "metadata": {},
   "outputs": [],
   "source": [
    "env = wikienv.WikiEnv()\n",
    "env = wrappers.FeverWrapper(env, split=\"train\")\n",
    "env = wrappers.LoggingWrapper(env)"
   ]
  },
  {
   "cell_type": "code",
   "execution_count": 85,
   "id": "96613b90",
   "metadata": {},
   "outputs": [],
   "source": [
    "with open('data/fever/claim_evidence.pkl', 'rb') as f:\n",
    "    claim_evidence = pickle.load(f)\n",
    "with open('data/fever/claim_labels.pkl', 'rb') as f:\n",
    "    claim_labels = pickle.load(f)"
   ]
  },
  {
   "cell_type": "code",
   "execution_count": 80,
   "id": "5a0d4692",
   "metadata": {},
   "outputs": [],
   "source": [
    "folder = 'prompts/'\n",
    "prompt_file = 'fever.json'\n",
    "with open('data/react/' + folder + prompt_file, 'r') as f:\n",
    "    prompt_dict = json.load(f)\n",
    "\n",
    "webthink_prompt = prompt_dict['webthink_simple3']"
   ]
  },
  {
   "cell_type": "code",
   "execution_count": 79,
   "id": "7c5c1583",
   "metadata": {},
   "outputs": [
    {
     "data": {
      "text/html": [
       "<div>\n",
       "<style scoped>\n",
       "    .dataframe tbody tr th:only-of-type {\n",
       "        vertical-align: middle;\n",
       "    }\n",
       "\n",
       "    .dataframe tbody tr th {\n",
       "        vertical-align: top;\n",
       "    }\n",
       "\n",
       "    .dataframe thead th {\n",
       "        text-align: right;\n",
       "    }\n",
       "</style>\n",
       "<table border=\"1\" class=\"dataframe\">\n",
       "  <thead>\n",
       "    <tr style=\"text-align: right;\">\n",
       "      <th></th>\n",
       "      <th>Unnamed: 0</th>\n",
       "      <th>question_idx</th>\n",
       "      <th>claim</th>\n",
       "      <th>label</th>\n",
       "      <th>evidence</th>\n",
       "      <th>assertions</th>\n",
       "    </tr>\n",
       "  </thead>\n",
       "  <tbody>\n",
       "    <tr>\n",
       "      <th>0</th>\n",
       "      <td>0</td>\n",
       "      <td>146</td>\n",
       "      <td>International Relations only includes the ente...</td>\n",
       "      <td>REFUTES</td>\n",
       "      <td>International relations (IR) are the interacti...</td>\n",
       "      <td>1. The observation states that International R...</td>\n",
       "    </tr>\n",
       "    <tr>\n",
       "      <th>1</th>\n",
       "      <td>1</td>\n",
       "      <td>1591</td>\n",
       "      <td>David Hasselhoff has appeared in American tele...</td>\n",
       "      <td>SUPPORTS</td>\n",
       "      <td>David Michael Hasselhoff (born July 17, 1952),...</td>\n",
       "      <td>1. The observation says that David Hasselhoff ...</td>\n",
       "    </tr>\n",
       "    <tr>\n",
       "      <th>2</th>\n",
       "      <td>2</td>\n",
       "      <td>1747</td>\n",
       "      <td>Klute was directed by Alan J. Pakula.</td>\n",
       "      <td>SUPPORTS</td>\n",
       "      <td>Klute is a 1971 American neo-noir psychologica...</td>\n",
       "      <td>1. The observation says that Klute was \"direct...</td>\n",
       "    </tr>\n",
       "    <tr>\n",
       "      <th>3</th>\n",
       "      <td>3</td>\n",
       "      <td>48</td>\n",
       "      <td>Sophie Turner was born in the 1990s.</td>\n",
       "      <td>SUPPORTS</td>\n",
       "      <td>Sophie Belinda Turner (born 21 February 1996)[...</td>\n",
       "      <td>1. Sophie Turner was born in 1996, which is in...</td>\n",
       "    </tr>\n",
       "    <tr>\n",
       "      <th>4</th>\n",
       "      <td>4</td>\n",
       "      <td>1381</td>\n",
       "      <td>David Beckham is from America.</td>\n",
       "      <td>REFUTES</td>\n",
       "      <td>David Robert Joseph Beckham OBE (/ˈbɛkəm/ BEK-...</td>\n",
       "      <td>1. The observation says that David Beckham is ...</td>\n",
       "    </tr>\n",
       "    <tr>\n",
       "      <th>5</th>\n",
       "      <td>5</td>\n",
       "      <td>2046</td>\n",
       "      <td>Nina Simone was enrolled in Juilliard.</td>\n",
       "      <td>SUPPORTS</td>\n",
       "      <td>Nina Simone (born Eunice Kathleen Waymon; Febr...</td>\n",
       "      <td>1. The observation says that Nina Simone \"enro...</td>\n",
       "    </tr>\n",
       "    <tr>\n",
       "      <th>6</th>\n",
       "      <td>6</td>\n",
       "      <td>1625</td>\n",
       "      <td>The Formula (1980 film) is directed by Michael...</td>\n",
       "      <td>REFUTES</td>\n",
       "      <td>The Formula is a 1980 mystery film directed by...</td>\n",
       "      <td>1. The observation says that The Formula (1980...</td>\n",
       "    </tr>\n",
       "    <tr>\n",
       "      <th>7</th>\n",
       "      <td>7</td>\n",
       "      <td>2489</td>\n",
       "      <td>Islam's followers are known as Sunni Muslims o...</td>\n",
       "      <td>SUPPORTS</td>\n",
       "      <td>Could not find Followers of Islam. Similar: ['...</td>\n",
       "      <td>1. Since I couldn't find information about the...</td>\n",
       "    </tr>\n",
       "    <tr>\n",
       "      <th>8</th>\n",
       "      <td>8</td>\n",
       "      <td>98</td>\n",
       "      <td>Snowden's cast includes two actors born in 1934.</td>\n",
       "      <td>NOT ENOUGH INFO</td>\n",
       "      <td>Could not find Snowden cast. Similar: ['Snowde...</td>\n",
       "      <td>NaN</td>\n",
       "    </tr>\n",
       "    <tr>\n",
       "      <th>9</th>\n",
       "      <td>9</td>\n",
       "      <td>1021</td>\n",
       "      <td>Father of the Bride stars B. D. Wong as Wesley...</td>\n",
       "      <td>NOT ENOUGH INFO</td>\n",
       "      <td>Could not find [Father of the Bride]. Similar:...</td>\n",
       "      <td>1. Observation 2 mentions that BD Wong is in t...</td>\n",
       "    </tr>\n",
       "    <tr>\n",
       "      <th>10</th>\n",
       "      <td>10</td>\n",
       "      <td>680</td>\n",
       "      <td>Julius Caesar possessed a position from 15 Feb...</td>\n",
       "      <td>NOT ENOUGH INFO</td>\n",
       "      <td>Gaius Julius Caesar (/ˈsiːzər/, SEE-zər; Latin...</td>\n",
       "      <td>1. The observation does not provide any inform...</td>\n",
       "    </tr>\n",
       "    <tr>\n",
       "      <th>11</th>\n",
       "      <td>11</td>\n",
       "      <td>1273</td>\n",
       "      <td>The Matrix Revolutions was directed by Steven ...</td>\n",
       "      <td>REFUTES</td>\n",
       "      <td>The Matrix Revolutions is a 2003 American scie...</td>\n",
       "      <td>1. The observation states that The Matrix Revo...</td>\n",
       "    </tr>\n",
       "    <tr>\n",
       "      <th>12</th>\n",
       "      <td>12</td>\n",
       "      <td>1363</td>\n",
       "      <td>The United States used nuclear weapons in warf...</td>\n",
       "      <td>SUPPORTS</td>\n",
       "      <td>The United States was the first country to man...</td>\n",
       "      <td>1. The observation states that the United Stat...</td>\n",
       "    </tr>\n",
       "    <tr>\n",
       "      <th>13</th>\n",
       "      <td>13</td>\n",
       "      <td>2442</td>\n",
       "      <td>Jacinda Barrett acts.</td>\n",
       "      <td>SUPPORTS</td>\n",
       "      <td>Jacinda Barrett Macht (born 2 August 1972) is ...</td>\n",
       "      <td>1. The observation states that \"Jacinda Barret...</td>\n",
       "    </tr>\n",
       "    <tr>\n",
       "      <th>14</th>\n",
       "      <td>14</td>\n",
       "      <td>44</td>\n",
       "      <td>Nice &amp; Slow is a jazz single.</td>\n",
       "      <td>NOT ENOUGH INFO</td>\n",
       "      <td>Nice (/niːs/ NEESS, French pronunciation: [nis...</td>\n",
       "      <td>1. The observation has no information about th...</td>\n",
       "    </tr>\n",
       "    <tr>\n",
       "      <th>15</th>\n",
       "      <td>15</td>\n",
       "      <td>1</td>\n",
       "      <td>Roman Atwood is a content creator.</td>\n",
       "      <td>SUPPORTS</td>\n",
       "      <td>Roman Bernard Atwood (born May 28, 1983) is an...</td>\n",
       "      <td>1. The observation says that Roman Atwood is a...</td>\n",
       "    </tr>\n",
       "    <tr>\n",
       "      <th>16</th>\n",
       "      <td>16</td>\n",
       "      <td>2962</td>\n",
       "      <td>Twenty One Pilots was formed in the 2000s.</td>\n",
       "      <td>NOT ENOUGH INFO</td>\n",
       "      <td>Could not find Twenty One Pilots formed. Simil...</td>\n",
       "      <td>1. There is not enough information available t...</td>\n",
       "    </tr>\n",
       "    <tr>\n",
       "      <th>17</th>\n",
       "      <td>17</td>\n",
       "      <td>2342</td>\n",
       "      <td>Solange Knowles refused to ever sing or write ...</td>\n",
       "      <td>REFUTES</td>\n",
       "      <td>Solange Piaget Knowles (/soʊˈlɑːnʒ/; born June...</td>\n",
       "      <td>1. The observation states that Solange Knowles...</td>\n",
       "    </tr>\n",
       "    <tr>\n",
       "      <th>18</th>\n",
       "      <td>18</td>\n",
       "      <td>281</td>\n",
       "      <td>Venus Williams has won multiple Wimbledons.</td>\n",
       "      <td>SUPPORTS</td>\n",
       "      <td>Venus Ebony Starr Williams[2] (born June 17, 1...</td>\n",
       "      <td>1. Venus Williams has \"won five at Wimbledon\",...</td>\n",
       "    </tr>\n",
       "    <tr>\n",
       "      <th>19</th>\n",
       "      <td>19</td>\n",
       "      <td>232</td>\n",
       "      <td>Adam Driver has had supporting roles.</td>\n",
       "      <td>SUPPORTS</td>\n",
       "      <td>Adam Douglas Driver (born November 19, 1983) i...</td>\n",
       "      <td>1. The observation says that Adam Driver \"rose...</td>\n",
       "    </tr>\n",
       "    <tr>\n",
       "      <th>20</th>\n",
       "      <td>20</td>\n",
       "      <td>166</td>\n",
       "      <td>Paul Walker acted in movies.</td>\n",
       "      <td>SUPPORTS</td>\n",
       "      <td>Paul William Walker IV[1] (September 12, 1973[...</td>\n",
       "      <td>1. The observation confirms that Paul Walker a...</td>\n",
       "    </tr>\n",
       "    <tr>\n",
       "      <th>21</th>\n",
       "      <td>21</td>\n",
       "      <td>2743</td>\n",
       "      <td>Amelia Earhart was a technology pioneer.</td>\n",
       "      <td>NOT ENOUGH INFO</td>\n",
       "      <td>Amelia Mary Earhart (/ˈɛərhɑːrt/ AIR-hart, bor...</td>\n",
       "      <td>1. Amelia Earhart's observation mentions that ...</td>\n",
       "    </tr>\n",
       "    <tr>\n",
       "      <th>22</th>\n",
       "      <td>22</td>\n",
       "      <td>582</td>\n",
       "      <td>Blues and rock music has been played by the ba...</td>\n",
       "      <td>SUPPORTS</td>\n",
       "      <td>AC/DC are an Australian rock band formed in 19...</td>\n",
       "      <td>1. The observation says that AC/DC's music has...</td>\n",
       "    </tr>\n",
       "    <tr>\n",
       "      <th>23</th>\n",
       "      <td>23</td>\n",
       "      <td>2788</td>\n",
       "      <td>Ronaldo Maczinski's birthday is widely celebra...</td>\n",
       "      <td>NOT ENOUGH INFO</td>\n",
       "      <td>Ronaldo Maczinski (born 11 September 1980), kn...</td>\n",
       "      <td>NaN</td>\n",
       "    </tr>\n",
       "    <tr>\n",
       "      <th>24</th>\n",
       "      <td>24</td>\n",
       "      <td>806</td>\n",
       "      <td>David Carradine was nominated for four Academy...</td>\n",
       "      <td>NOT ENOUGH INFO</td>\n",
       "      <td>David Carradine (/ˈkærədiːn/ KARR-ə-deen; born...</td>\n",
       "      <td>1. The observation says that David Carradine r...</td>\n",
       "    </tr>\n",
       "    <tr>\n",
       "      <th>25</th>\n",
       "      <td>25</td>\n",
       "      <td>245</td>\n",
       "      <td>Nina Simone graduated Juilliard.</td>\n",
       "      <td>NOT ENOUGH INFO</td>\n",
       "      <td>Nina Simone (born Eunice Kathleen Waymon; Febr...</td>\n",
       "      <td>1. From the observation, it says that Nina Sim...</td>\n",
       "    </tr>\n",
       "    <tr>\n",
       "      <th>26</th>\n",
       "      <td>26</td>\n",
       "      <td>2775</td>\n",
       "      <td>Jean-Claude Van Damme isn't a screenwriter.</td>\n",
       "      <td>REFUTES</td>\n",
       "      <td>Jean-Claude Camille François Van Varenberg (Fr...</td>\n",
       "      <td>1. The observation does not mention anything a...</td>\n",
       "    </tr>\n",
       "    <tr>\n",
       "      <th>27</th>\n",
       "      <td>27</td>\n",
       "      <td>821</td>\n",
       "      <td>Dangerous Beauty is a 1990 film.</td>\n",
       "      <td>REFUTES</td>\n",
       "      <td>Dangerous Beauty is a 1998 American biographic...</td>\n",
       "      <td>1. The observation says that Dangerous Beauty ...</td>\n",
       "    </tr>\n",
       "    <tr>\n",
       "      <th>28</th>\n",
       "      <td>28</td>\n",
       "      <td>2934</td>\n",
       "      <td>Ajay Devgan is a person.</td>\n",
       "      <td>SUPPORTS</td>\n",
       "      <td>Vishal Veeru Devgan (born 2 April 1969), known...</td>\n",
       "      <td>1. Ajay Devgan is mentioned as an Indian actor...</td>\n",
       "    </tr>\n",
       "    <tr>\n",
       "      <th>29</th>\n",
       "      <td>29</td>\n",
       "      <td>258</td>\n",
       "      <td>Judy Garland did not appear in a courtroom dra...</td>\n",
       "      <td>REFUTES</td>\n",
       "      <td>Judy Garland (born Frances Ethel Gumm; June 10...</td>\n",
       "      <td>1. The observation does not mention anything a...</td>\n",
       "    </tr>\n",
       "    <tr>\n",
       "      <th>30</th>\n",
       "      <td>30</td>\n",
       "      <td>1207</td>\n",
       "      <td>King Kong was composed by Peter Jackson.</td>\n",
       "      <td>NOT ENOUGH INFO</td>\n",
       "      <td>Could not find King Kong composer. Similar: ['...</td>\n",
       "      <td>1. The observation does not provide any inform...</td>\n",
       "    </tr>\n",
       "    <tr>\n",
       "      <th>31</th>\n",
       "      <td>31</td>\n",
       "      <td>280</td>\n",
       "      <td>Escape from Planet Earth is an American film.</td>\n",
       "      <td>SUPPORTS</td>\n",
       "      <td>Escape from Planet Earth is a 2013 computer-an...</td>\n",
       "      <td>1. The observation states that Escape from Pla...</td>\n",
       "    </tr>\n",
       "    <tr>\n",
       "      <th>32</th>\n",
       "      <td>32</td>\n",
       "      <td>1228</td>\n",
       "      <td>Christopher Lee portrayed Francisco Scaramanga...</td>\n",
       "      <td>SUPPORTS</td>\n",
       "      <td>Sir Christopher Frank Carandini Lee CBE CStJ (...</td>\n",
       "      <td>1. The observation states that Christopher Lee...</td>\n",
       "    </tr>\n",
       "    <tr>\n",
       "      <th>33</th>\n",
       "      <td>33</td>\n",
       "      <td>455</td>\n",
       "      <td>Bob Riley is a lawyer.</td>\n",
       "      <td>NOT ENOUGH INFO</td>\n",
       "      <td>Robert Renfroe Riley (born October 3, 1944) is...</td>\n",
       "      <td>1. The observation does not mention anything a...</td>\n",
       "    </tr>\n",
       "    <tr>\n",
       "      <th>34</th>\n",
       "      <td>34</td>\n",
       "      <td>1125</td>\n",
       "      <td>Derrick Rose was not born in the Chicago area.</td>\n",
       "      <td>REFUTES</td>\n",
       "      <td>Derrick Martell Rose (born October 4, 1988) is...</td>\n",
       "      <td>1. The observation clearly states that Derrick...</td>\n",
       "    </tr>\n",
       "    <tr>\n",
       "      <th>35</th>\n",
       "      <td>35</td>\n",
       "      <td>234</td>\n",
       "      <td>Thor: The Dark World is a movie.</td>\n",
       "      <td>SUPPORTS</td>\n",
       "      <td>NaN</td>\n",
       "      <td>NaN</td>\n",
       "    </tr>\n",
       "    <tr>\n",
       "      <th>36</th>\n",
       "      <td>36</td>\n",
       "      <td>2944</td>\n",
       "      <td>Sophie Turner was born on the 2nd.</td>\n",
       "      <td>REFUTES</td>\n",
       "      <td>Sophie Belinda Turner (born 21 February 1996)[...</td>\n",
       "      <td>1. Sophie Turner was born on February 21st, no...</td>\n",
       "    </tr>\n",
       "    <tr>\n",
       "      <th>37</th>\n",
       "      <td>37</td>\n",
       "      <td>1443</td>\n",
       "      <td>The Great Outdoors (film) was the highest gros...</td>\n",
       "      <td>NOT ENOUGH INFO</td>\n",
       "      <td>Could not find The Great Outdoors film. Simila...</td>\n",
       "      <td>1. The search did not find The Great Outdoors ...</td>\n",
       "    </tr>\n",
       "    <tr>\n",
       "      <th>38</th>\n",
       "      <td>38</td>\n",
       "      <td>2497</td>\n",
       "      <td>George W. Romney was the father of a former go...</td>\n",
       "      <td>SUPPORTS</td>\n",
       "      <td>George Wilcken Romney (July 8, 1907 – July 26,...</td>\n",
       "      <td>1. The observation states that George W. Romne...</td>\n",
       "    </tr>\n",
       "    <tr>\n",
       "      <th>39</th>\n",
       "      <td>39</td>\n",
       "      <td>1071</td>\n",
       "      <td>Taylor Schilling in the main cast of the serie...</td>\n",
       "      <td>SUPPORTS</td>\n",
       "      <td>Taylor Jane Schilling (born July 27, 1984) is ...</td>\n",
       "      <td>1. The observation states that Taylor Schillin...</td>\n",
       "    </tr>\n",
       "  </tbody>\n",
       "</table>\n",
       "</div>"
      ],
      "text/plain": [
       "    Unnamed: 0  question_idx  \\\n",
       "0            0           146   \n",
       "1            1          1591   \n",
       "2            2          1747   \n",
       "3            3            48   \n",
       "4            4          1381   \n",
       "5            5          2046   \n",
       "6            6          1625   \n",
       "7            7          2489   \n",
       "8            8            98   \n",
       "9            9          1021   \n",
       "10          10           680   \n",
       "11          11          1273   \n",
       "12          12          1363   \n",
       "13          13          2442   \n",
       "14          14            44   \n",
       "15          15             1   \n",
       "16          16          2962   \n",
       "17          17          2342   \n",
       "18          18           281   \n",
       "19          19           232   \n",
       "20          20           166   \n",
       "21          21          2743   \n",
       "22          22           582   \n",
       "23          23          2788   \n",
       "24          24           806   \n",
       "25          25           245   \n",
       "26          26          2775   \n",
       "27          27           821   \n",
       "28          28          2934   \n",
       "29          29           258   \n",
       "30          30          1207   \n",
       "31          31           280   \n",
       "32          32          1228   \n",
       "33          33           455   \n",
       "34          34          1125   \n",
       "35          35           234   \n",
       "36          36          2944   \n",
       "37          37          1443   \n",
       "38          38          2497   \n",
       "39          39          1071   \n",
       "\n",
       "                                                claim            label  \\\n",
       "0   International Relations only includes the ente...          REFUTES   \n",
       "1   David Hasselhoff has appeared in American tele...         SUPPORTS   \n",
       "2               Klute was directed by Alan J. Pakula.         SUPPORTS   \n",
       "3                Sophie Turner was born in the 1990s.         SUPPORTS   \n",
       "4                      David Beckham is from America.          REFUTES   \n",
       "5              Nina Simone was enrolled in Juilliard.         SUPPORTS   \n",
       "6   The Formula (1980 film) is directed by Michael...          REFUTES   \n",
       "7   Islam's followers are known as Sunni Muslims o...         SUPPORTS   \n",
       "8    Snowden's cast includes two actors born in 1934.  NOT ENOUGH INFO   \n",
       "9   Father of the Bride stars B. D. Wong as Wesley...  NOT ENOUGH INFO   \n",
       "10  Julius Caesar possessed a position from 15 Feb...  NOT ENOUGH INFO   \n",
       "11  The Matrix Revolutions was directed by Steven ...          REFUTES   \n",
       "12  The United States used nuclear weapons in warf...         SUPPORTS   \n",
       "13                              Jacinda Barrett acts.         SUPPORTS   \n",
       "14                      Nice & Slow is a jazz single.  NOT ENOUGH INFO   \n",
       "15                 Roman Atwood is a content creator.         SUPPORTS   \n",
       "16         Twenty One Pilots was formed in the 2000s.  NOT ENOUGH INFO   \n",
       "17  Solange Knowles refused to ever sing or write ...          REFUTES   \n",
       "18        Venus Williams has won multiple Wimbledons.         SUPPORTS   \n",
       "19              Adam Driver has had supporting roles.         SUPPORTS   \n",
       "20                       Paul Walker acted in movies.         SUPPORTS   \n",
       "21           Amelia Earhart was a technology pioneer.  NOT ENOUGH INFO   \n",
       "22  Blues and rock music has been played by the ba...         SUPPORTS   \n",
       "23  Ronaldo Maczinski's birthday is widely celebra...  NOT ENOUGH INFO   \n",
       "24  David Carradine was nominated for four Academy...  NOT ENOUGH INFO   \n",
       "25                   Nina Simone graduated Juilliard.  NOT ENOUGH INFO   \n",
       "26        Jean-Claude Van Damme isn't a screenwriter.          REFUTES   \n",
       "27                   Dangerous Beauty is a 1990 film.          REFUTES   \n",
       "28                           Ajay Devgan is a person.         SUPPORTS   \n",
       "29  Judy Garland did not appear in a courtroom dra...          REFUTES   \n",
       "30           King Kong was composed by Peter Jackson.  NOT ENOUGH INFO   \n",
       "31      Escape from Planet Earth is an American film.         SUPPORTS   \n",
       "32  Christopher Lee portrayed Francisco Scaramanga...         SUPPORTS   \n",
       "33                             Bob Riley is a lawyer.  NOT ENOUGH INFO   \n",
       "34     Derrick Rose was not born in the Chicago area.          REFUTES   \n",
       "35                   Thor: The Dark World is a movie.         SUPPORTS   \n",
       "36                 Sophie Turner was born on the 2nd.          REFUTES   \n",
       "37  The Great Outdoors (film) was the highest gros...  NOT ENOUGH INFO   \n",
       "38  George W. Romney was the father of a former go...         SUPPORTS   \n",
       "39  Taylor Schilling in the main cast of the serie...         SUPPORTS   \n",
       "\n",
       "                                             evidence  \\\n",
       "0   International relations (IR) are the interacti...   \n",
       "1   David Michael Hasselhoff (born July 17, 1952),...   \n",
       "2   Klute is a 1971 American neo-noir psychologica...   \n",
       "3   Sophie Belinda Turner (born 21 February 1996)[...   \n",
       "4   David Robert Joseph Beckham OBE (/ˈbɛkəm/ BEK-...   \n",
       "5   Nina Simone (born Eunice Kathleen Waymon; Febr...   \n",
       "6   The Formula is a 1980 mystery film directed by...   \n",
       "7   Could not find Followers of Islam. Similar: ['...   \n",
       "8   Could not find Snowden cast. Similar: ['Snowde...   \n",
       "9   Could not find [Father of the Bride]. Similar:...   \n",
       "10  Gaius Julius Caesar (/ˈsiːzər/, SEE-zər; Latin...   \n",
       "11  The Matrix Revolutions is a 2003 American scie...   \n",
       "12  The United States was the first country to man...   \n",
       "13  Jacinda Barrett Macht (born 2 August 1972) is ...   \n",
       "14  Nice (/niːs/ NEESS, French pronunciation: [nis...   \n",
       "15  Roman Bernard Atwood (born May 28, 1983) is an...   \n",
       "16  Could not find Twenty One Pilots formed. Simil...   \n",
       "17  Solange Piaget Knowles (/soʊˈlɑːnʒ/; born June...   \n",
       "18  Venus Ebony Starr Williams[2] (born June 17, 1...   \n",
       "19  Adam Douglas Driver (born November 19, 1983) i...   \n",
       "20  Paul William Walker IV[1] (September 12, 1973[...   \n",
       "21  Amelia Mary Earhart (/ˈɛərhɑːrt/ AIR-hart, bor...   \n",
       "22  AC/DC are an Australian rock band formed in 19...   \n",
       "23  Ronaldo Maczinski (born 11 September 1980), kn...   \n",
       "24  David Carradine (/ˈkærədiːn/ KARR-ə-deen; born...   \n",
       "25  Nina Simone (born Eunice Kathleen Waymon; Febr...   \n",
       "26  Jean-Claude Camille François Van Varenberg (Fr...   \n",
       "27  Dangerous Beauty is a 1998 American biographic...   \n",
       "28  Vishal Veeru Devgan (born 2 April 1969), known...   \n",
       "29  Judy Garland (born Frances Ethel Gumm; June 10...   \n",
       "30  Could not find King Kong composer. Similar: ['...   \n",
       "31  Escape from Planet Earth is a 2013 computer-an...   \n",
       "32  Sir Christopher Frank Carandini Lee CBE CStJ (...   \n",
       "33  Robert Renfroe Riley (born October 3, 1944) is...   \n",
       "34  Derrick Martell Rose (born October 4, 1988) is...   \n",
       "35                                                NaN   \n",
       "36  Sophie Belinda Turner (born 21 February 1996)[...   \n",
       "37  Could not find The Great Outdoors film. Simila...   \n",
       "38  George Wilcken Romney (July 8, 1907 – July 26,...   \n",
       "39  Taylor Jane Schilling (born July 27, 1984) is ...   \n",
       "\n",
       "                                           assertions  \n",
       "0   1. The observation states that International R...  \n",
       "1   1. The observation says that David Hasselhoff ...  \n",
       "2   1. The observation says that Klute was \"direct...  \n",
       "3   1. Sophie Turner was born in 1996, which is in...  \n",
       "4   1. The observation says that David Beckham is ...  \n",
       "5   1. The observation says that Nina Simone \"enro...  \n",
       "6   1. The observation says that The Formula (1980...  \n",
       "7   1. Since I couldn't find information about the...  \n",
       "8                                                 NaN  \n",
       "9   1. Observation 2 mentions that BD Wong is in t...  \n",
       "10  1. The observation does not provide any inform...  \n",
       "11  1. The observation states that The Matrix Revo...  \n",
       "12  1. The observation states that the United Stat...  \n",
       "13  1. The observation states that \"Jacinda Barret...  \n",
       "14  1. The observation has no information about th...  \n",
       "15  1. The observation says that Roman Atwood is a...  \n",
       "16  1. There is not enough information available t...  \n",
       "17  1. The observation states that Solange Knowles...  \n",
       "18  1. Venus Williams has \"won five at Wimbledon\",...  \n",
       "19  1. The observation says that Adam Driver \"rose...  \n",
       "20  1. The observation confirms that Paul Walker a...  \n",
       "21  1. Amelia Earhart's observation mentions that ...  \n",
       "22  1. The observation says that AC/DC's music has...  \n",
       "23                                                NaN  \n",
       "24  1. The observation says that David Carradine r...  \n",
       "25  1. From the observation, it says that Nina Sim...  \n",
       "26  1. The observation does not mention anything a...  \n",
       "27  1. The observation says that Dangerous Beauty ...  \n",
       "28  1. Ajay Devgan is mentioned as an Indian actor...  \n",
       "29  1. The observation does not mention anything a...  \n",
       "30  1. The observation does not provide any inform...  \n",
       "31  1. The observation states that Escape from Pla...  \n",
       "32  1. The observation states that Christopher Lee...  \n",
       "33  1. The observation does not mention anything a...  \n",
       "34  1. The observation clearly states that Derrick...  \n",
       "35                                                NaN  \n",
       "36  1. Sophie Turner was born on February 21st, no...  \n",
       "37  1. The search did not find The Great Outdoors ...  \n",
       "38  1. The observation states that George W. Romne...  \n",
       "39  1. The observation states that Taylor Schillin...  "
      ]
     },
     "execution_count": 79,
     "metadata": {},
     "output_type": "execute_result"
    }
   ],
   "source": [
    "react_generated_examples.head(40)"
   ]
  },
  {
   "cell_type": "code",
   "execution_count": 101,
   "id": "2a10a778",
   "metadata": {},
   "outputs": [
    {
     "name": "stderr",
     "output_type": "stream",
     "text": [
      "  0%|          | 0/3000 [00:00<?, ?it/s]"
     ]
    },
    {
     "name": "stderr",
     "output_type": "stream",
     "text": [
      "  0%|          | 4/3000 [00:42<8:47:47, 10.57s/it]"
     ]
    },
    {
     "name": "stdout",
     "output_type": "stream",
     "text": [
      "List 1:\n",
      "1. \"Umbrella\" is a song by Rihanna from her album Good Girl Gone Bad.\n",
      "2. The song features rapper Jay Z, who co-wrote the song with the producers.\n",
      "3. \"Umbrella\" is a pop and R&B song with hip-hop and rock influences.\n",
      "4. Entertainment Weekly ranked the song as the number one single of 2007.\n",
      "5. Rolling Stone and Time listed the song as one of the top songs of 2007.\n",
      "6. The song won two awards at the 2007 MTV Video Music Awards.\n",
      "7. The song earned Rihanna and Jay Z a Grammy Award for Best Rap/Sung Collaboration.\n",
      "8. \"Umbrella\" topped the charts in multiple countries, including the United Kingdom and the United States.\n",
      "\n",
      "List 2:\n",
      "1. \"Umbrella\" was originally written with Britney Spears in mind, but her label rejected it.\n",
      "2. The song refers to a romantic and platonic relationship and emphasizes the strength of that relationship.\n",
      "3. The song is listed on Rolling Stone's The 500 Greatest Songs of All Time at number 412.\n",
      "4. The music video for \"Umbrella\" features Rihanna's nude body covered in silver paint.\n",
      "5. The music video earned Rihanna a Video of the Year award at the 2007 MTV Video Music Awards.\n",
      "6. The song has been covered by several notable performers from different musical genres.\n",
      "7. Rihanna has performed \"Umbrella\" at various awards shows and tours.\n",
      "8. The song was included in multiple concert tours by Rihanna.\n",
      "\n",
      "List 3:\n",
      "1. \"Umbrella\" was released worldwide on March 29, 2007, as the lead single to the album.\n",
      "2. The song was a commercial success and topped the charts in multiple countries.\n",
      "3. In the UK, the song stayed at number one on the singles chart for 10 consecutive weeks, the longest run of any single in that decade.\n",
      "4. The single had a strong digital debut in the United States and remained at the top of the Billboard Hot 100 for seven consecutive weeks.\n",
      "5. \"Umbrella\" received nominations for Record of the Year and Song of the Year at the Grammy Awards.\n",
      "6. The song generated controversy in the UK due to its chart performance coinciding with excessive flooding and rain.\n",
      "7. Rihanna included \"Umbrella\" in multiple concert tours throughout the years.\n",
      "8. \"Umbrella\" was one of the most played songs on radio in the 2000s in the UK.\n"
     ]
    },
    {
     "name": "stderr",
     "output_type": "stream",
     "text": [
      "\n"
     ]
    }
   ],
   "source": [
    "labels = []\n",
    "claims = []\n",
    "assertions = []\n",
    "evidences = []\n",
    "question_idxs = []\n",
    "for i in tqdm(idxs):\n",
    "    claim = env.reset(idx=i)\n",
    "    claim = claim[7:]\n",
    "    if claim in react_generated_examples['claim'].values:\n",
    "        #print(\"sadasd\")\n",
    "        continue\n",
    "    \n",
    "    if claim in claim_evidence:\n",
    "        evidence = claim_evidence[claim]\n",
    "        label = claim_labels[claim]\n",
    "\n",
    "        prompt = get_prompt_ex(claim, evidence, label)\n",
    "        response = llm(prompt)\n",
    "\n",
    "        print(response)\n",
    "        break\n",
    "\n",
    "        assertion_str = ...\n",
    "        \n",
    "        labels.append(label)\n",
    "        claims.append(claim)\n",
    "        assertions.append(assertion_str)\n",
    "        question_idxs.append(i)\n",
    "        evidences.append(evidence)"
   ]
  }
 ],
 "metadata": {
  "kernelspec": {
   "display_name": "cor",
   "language": "python",
   "name": "python3"
  },
  "language_info": {
   "codemirror_mode": {
    "name": "ipython",
    "version": 3
   },
   "file_extension": ".py",
   "mimetype": "text/x-python",
   "name": "python",
   "nbconvert_exporter": "python",
   "pygments_lexer": "ipython3",
   "version": "3.10.13"
  }
 },
 "nbformat": 4,
 "nbformat_minor": 5
}
